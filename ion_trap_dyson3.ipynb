{
 "cells": [
  {
   "cell_type": "code",
   "execution_count": 56,
   "metadata": {},
   "outputs": [],
   "source": [
    "import qutip as qp\n",
    "from qutip import (basis, ket2dm, sigmay, sigmax, tensor, destroy, qeye, tracedist, sigmaz, Qobj,operations)\n",
    "import numpy as np\n",
    "import matplotlib.pyplot as plt\n",
    "from qutip.qip.circuit import QubitCircuit\n",
    "from qutip.qip.gates import snot\n",
    "from qutip_qip.circuit import Gate"
   ]
  },
  {
   "cell_type": "code",
   "execution_count": 57,
   "metadata": {},
   "outputs": [],
   "source": [
    "# Parameters\n",
    "N = 2 # number of levels\n",
    "M = 100\n",
    "T = 500\n",
    "delta = T / M\n",
    "K = 500\n",
    "epsilon = 1\n",
    "omega = 0.05\n"
   ]
  },
  {
   "cell_type": "code",
   "execution_count": 59,
   "metadata": {},
   "outputs": [],
   "source": [
    "a_t = qp.tensor(qp.qeye(2), qp.destroy(N))\n",
    "H_a = omega * (\n",
    "    a_t.dag() * np.exp(-1j * epsilon) + a_t * np.exp(1j * epsilon))\n",
    "H_f = omega * a_t * a_t.dag()\n",
    "H_i = np.kron(qp.sigmax(), a_t * np.exp(-1j * epsilon)) + np.kron(qp.sigmax().dag(), a_t.dag() * np.exp(1j * epsilon))\n",
    "H_a = qp.tensor(H_a, qp.qeye(N))\n",
    "H_f = qp.tensor(qp.qeye(N),H_f)\n"
   ]
  },
  {
   "cell_type": "code",
   "execution_count": 60,
   "metadata": {},
   "outputs": [
    {
     "data": {
      "text/plain": [
       "[[2, 2, 2], [2, 2, 2]]"
      ]
     },
     "execution_count": 60,
     "metadata": {},
     "output_type": "execute_result"
    }
   ],
   "source": [
    "H_f.dims"
   ]
  },
  {
   "cell_type": "code",
   "execution_count": 61,
   "metadata": {},
   "outputs": [
    {
     "data": {
      "text/latex": [
       "Quantum object: dims = [[2, 2, 2], [2, 2, 2]], shape = (8, 8), type = oper, isherm = True $ \\\\ \\left(\\begin{matrix}0.050 & 0.0 & (0.027+0.042j) & 0.0 & 0.0 & 0.0 & 0.0 & 0.0\\\\0.0 & 0.0 & 0.0 & (0.027+0.042j) & 0.0 & 0.0 & 0.0 & 0.0\\\\(0.027-0.042j) & 0.0 & 0.050 & 0.0 & 0.0 & 0.0 & 0.0 & 0.0\\\\0.0 & (0.027-0.042j) & 0.0 & 0.0 & 0.0 & 0.0 & 0.0 & 0.0\\\\0.0 & 0.0 & 0.0 & 0.0 & 0.050 & 0.0 & (0.027+0.042j) & 0.0\\\\0.0 & 0.0 & 0.0 & 0.0 & 0.0 & 0.0 & 0.0 & (0.027+0.042j)\\\\0.0 & 0.0 & 0.0 & 0.0 & (0.027-0.042j) & 0.0 & 0.050 & 0.0\\\\0.0 & 0.0 & 0.0 & 0.0 & 0.0 & (0.027-0.042j) & 0.0 & 0.0\\\\\\end{matrix}\\right)$"
      ],
      "text/plain": [
       "Quantum object: dims = [[2, 2, 2], [2, 2, 2]], shape = (8, 8), type = oper, isherm = True\n",
       "Qobj data =\n",
       "[[0.05      +0.j         0.        +0.j         0.02701512+0.04207355j\n",
       "  0.        +0.j         0.        +0.j         0.        +0.j\n",
       "  0.        +0.j         0.        +0.j        ]\n",
       " [0.        +0.j         0.        +0.j         0.        +0.j\n",
       "  0.02701512+0.04207355j 0.        +0.j         0.        +0.j\n",
       "  0.        +0.j         0.        +0.j        ]\n",
       " [0.02701512-0.04207355j 0.        +0.j         0.05      +0.j\n",
       "  0.        +0.j         0.        +0.j         0.        +0.j\n",
       "  0.        +0.j         0.        +0.j        ]\n",
       " [0.        +0.j         0.02701512-0.04207355j 0.        +0.j\n",
       "  0.        +0.j         0.        +0.j         0.        +0.j\n",
       "  0.        +0.j         0.        +0.j        ]\n",
       " [0.        +0.j         0.        +0.j         0.        +0.j\n",
       "  0.        +0.j         0.05      +0.j         0.        +0.j\n",
       "  0.02701512+0.04207355j 0.        +0.j        ]\n",
       " [0.        +0.j         0.        +0.j         0.        +0.j\n",
       "  0.        +0.j         0.        +0.j         0.        +0.j\n",
       "  0.        +0.j         0.02701512+0.04207355j]\n",
       " [0.        +0.j         0.        +0.j         0.        +0.j\n",
       "  0.        +0.j         0.02701512-0.04207355j 0.        +0.j\n",
       "  0.05      +0.j         0.        +0.j        ]\n",
       " [0.        +0.j         0.        +0.j         0.        +0.j\n",
       "  0.        +0.j         0.        +0.j         0.02701512-0.04207355j\n",
       "  0.        +0.j         0.        +0.j        ]]"
      ]
     },
     "execution_count": 61,
     "metadata": {},
     "output_type": "execute_result"
    }
   ],
   "source": [
    "# Create the composite Hamiltonian\n",
    "H_composite = H_a + H_f\n",
    "H_composite"
   ]
  },
  {
   "cell_type": "code",
   "execution_count": 37,
   "metadata": {},
   "outputs": [
    {
     "data": {
      "text/latex": [
       "Quantum object: dims = [[2, 2, 2, 2], [2, 2, 2, 2]], shape = (16, 16), type = oper, isherm = True $ \\\\ \\left(\\begin{matrix}0.050 & 0.0 & 0.0 & 0.0 & (0.027+0.042j) & \\cdots & 0.0 & 0.0 & 0.0 & 0.0 & 0.0\\\\0.0 & 0.0 & 0.0 & 0.0 & 0.0 & \\cdots & 0.0 & 0.0 & 0.0 & 0.0 & 0.0\\\\0.0 & 0.0 & 0.050 & 0.0 & 0.0 & \\cdots & 0.0 & 0.0 & 0.0 & 0.0 & 0.0\\\\0.0 & 0.0 & 0.0 & 0.0 & 0.0 & \\cdots & 0.0 & 0.0 & 0.0 & 0.0 & 0.0\\\\(0.027-0.042j) & 0.0 & 0.0 & 0.0 & 0.050 & \\cdots & 0.0 & 0.0 & 0.0 & 0.0 & 0.0\\\\\\vdots & \\vdots & \\vdots & \\vdots & \\vdots & \\ddots & \\vdots & \\vdots & \\vdots & \\vdots & \\vdots\\\\0.0 & 0.0 & 0.0 & 0.0 & 0.0 & \\cdots & 0.0 & 0.0 & 0.0 & 0.0 & (0.027+0.042j)\\\\0.0 & 0.0 & 0.0 & 0.0 & 0.0 & \\cdots & 0.0 & 0.050 & 0.0 & 0.0 & 0.0\\\\0.0 & 0.0 & 0.0 & 0.0 & 0.0 & \\cdots & 0.0 & 0.0 & 0.0 & 0.0 & 0.0\\\\0.0 & 0.0 & 0.0 & 0.0 & 0.0 & \\cdots & 0.0 & 0.0 & 0.0 & 0.050 & 0.0\\\\0.0 & 0.0 & 0.0 & 0.0 & 0.0 & \\cdots & (0.027-0.042j) & 0.0 & 0.0 & 0.0 & 0.0\\\\\\end{matrix}\\right)$"
      ],
      "text/plain": [
       "Quantum object: dims = [[2, 2, 2, 2], [2, 2, 2, 2]], shape = (16, 16), type = oper, isherm = True\n",
       "Qobj data =\n",
       "[[0.05      +0.j         0.        +0.j         0.        +0.j\n",
       "  0.        +0.j         0.02701512+0.04207355j 0.        +0.j\n",
       "  0.        +0.j         0.        +0.j         0.        +0.j\n",
       "  0.        +0.j         0.        +0.j         0.        +0.j\n",
       "  0.        +0.j         0.        +0.j         0.        +0.j\n",
       "  0.        +0.j        ]\n",
       " [0.        +0.j         0.        +0.j         0.        +0.j\n",
       "  0.        +0.j         0.        +0.j         0.02701512+0.04207355j\n",
       "  0.        +0.j         0.        +0.j         0.        +0.j\n",
       "  0.        +0.j         0.        +0.j         0.        +0.j\n",
       "  0.        +0.j         0.        +0.j         0.        +0.j\n",
       "  0.        +0.j        ]\n",
       " [0.        +0.j         0.        +0.j         0.05      +0.j\n",
       "  0.        +0.j         0.        +0.j         0.        +0.j\n",
       "  0.02701512+0.04207355j 0.        +0.j         0.        +0.j\n",
       "  0.        +0.j         0.        +0.j         0.        +0.j\n",
       "  0.        +0.j         0.        +0.j         0.        +0.j\n",
       "  0.        +0.j        ]\n",
       " [0.        +0.j         0.        +0.j         0.        +0.j\n",
       "  0.        +0.j         0.        +0.j         0.        +0.j\n",
       "  0.        +0.j         0.02701512+0.04207355j 0.        +0.j\n",
       "  0.        +0.j         0.        +0.j         0.        +0.j\n",
       "  0.        +0.j         0.        +0.j         0.        +0.j\n",
       "  0.        +0.j        ]\n",
       " [0.02701512-0.04207355j 0.        +0.j         0.        +0.j\n",
       "  0.        +0.j         0.05      +0.j         0.        +0.j\n",
       "  0.        +0.j         0.        +0.j         0.        +0.j\n",
       "  0.        +0.j         0.        +0.j         0.        +0.j\n",
       "  0.        +0.j         0.        +0.j         0.        +0.j\n",
       "  0.        +0.j        ]\n",
       " [0.        +0.j         0.02701512-0.04207355j 0.        +0.j\n",
       "  0.        +0.j         0.        +0.j         0.        +0.j\n",
       "  0.        +0.j         0.        +0.j         0.        +0.j\n",
       "  0.        +0.j         0.        +0.j         0.        +0.j\n",
       "  0.        +0.j         0.        +0.j         0.        +0.j\n",
       "  0.        +0.j        ]\n",
       " [0.        +0.j         0.        +0.j         0.02701512-0.04207355j\n",
       "  0.        +0.j         0.        +0.j         0.        +0.j\n",
       "  0.05      +0.j         0.        +0.j         0.        +0.j\n",
       "  0.        +0.j         0.        +0.j         0.        +0.j\n",
       "  0.        +0.j         0.        +0.j         0.        +0.j\n",
       "  0.        +0.j        ]\n",
       " [0.        +0.j         0.        +0.j         0.        +0.j\n",
       "  0.02701512-0.04207355j 0.        +0.j         0.        +0.j\n",
       "  0.        +0.j         0.        +0.j         0.        +0.j\n",
       "  0.        +0.j         0.        +0.j         0.        +0.j\n",
       "  0.        +0.j         0.        +0.j         0.        +0.j\n",
       "  0.        +0.j        ]\n",
       " [0.        +0.j         0.        +0.j         0.        +0.j\n",
       "  0.        +0.j         0.        +0.j         0.        +0.j\n",
       "  0.        +0.j         0.        +0.j         0.05      +0.j\n",
       "  0.        +0.j         0.        +0.j         0.        +0.j\n",
       "  0.02701512+0.04207355j 0.        +0.j         0.        +0.j\n",
       "  0.        +0.j        ]\n",
       " [0.        +0.j         0.        +0.j         0.        +0.j\n",
       "  0.        +0.j         0.        +0.j         0.        +0.j\n",
       "  0.        +0.j         0.        +0.j         0.        +0.j\n",
       "  0.        +0.j         0.        +0.j         0.        +0.j\n",
       "  0.        +0.j         0.02701512+0.04207355j 0.        +0.j\n",
       "  0.        +0.j        ]\n",
       " [0.        +0.j         0.        +0.j         0.        +0.j\n",
       "  0.        +0.j         0.        +0.j         0.        +0.j\n",
       "  0.        +0.j         0.        +0.j         0.        +0.j\n",
       "  0.        +0.j         0.05      +0.j         0.        +0.j\n",
       "  0.        +0.j         0.        +0.j         0.02701512+0.04207355j\n",
       "  0.        +0.j        ]\n",
       " [0.        +0.j         0.        +0.j         0.        +0.j\n",
       "  0.        +0.j         0.        +0.j         0.        +0.j\n",
       "  0.        +0.j         0.        +0.j         0.        +0.j\n",
       "  0.        +0.j         0.        +0.j         0.        +0.j\n",
       "  0.        +0.j         0.        +0.j         0.        +0.j\n",
       "  0.02701512+0.04207355j]\n",
       " [0.        +0.j         0.        +0.j         0.        +0.j\n",
       "  0.        +0.j         0.        +0.j         0.        +0.j\n",
       "  0.        +0.j         0.        +0.j         0.02701512-0.04207355j\n",
       "  0.        +0.j         0.        +0.j         0.        +0.j\n",
       "  0.05      +0.j         0.        +0.j         0.        +0.j\n",
       "  0.        +0.j        ]\n",
       " [0.        +0.j         0.        +0.j         0.        +0.j\n",
       "  0.        +0.j         0.        +0.j         0.        +0.j\n",
       "  0.        +0.j         0.        +0.j         0.        +0.j\n",
       "  0.02701512-0.04207355j 0.        +0.j         0.        +0.j\n",
       "  0.        +0.j         0.        +0.j         0.        +0.j\n",
       "  0.        +0.j        ]\n",
       " [0.        +0.j         0.        +0.j         0.        +0.j\n",
       "  0.        +0.j         0.        +0.j         0.        +0.j\n",
       "  0.        +0.j         0.        +0.j         0.        +0.j\n",
       "  0.        +0.j         0.02701512-0.04207355j 0.        +0.j\n",
       "  0.        +0.j         0.        +0.j         0.05      +0.j\n",
       "  0.        +0.j        ]\n",
       " [0.        +0.j         0.        +0.j         0.        +0.j\n",
       "  0.        +0.j         0.        +0.j         0.        +0.j\n",
       "  0.        +0.j         0.        +0.j         0.        +0.j\n",
       "  0.        +0.j         0.        +0.j         0.02701512-0.04207355j\n",
       "  0.        +0.j         0.        +0.j         0.        +0.j\n",
       "  0.        +0.j        ]]"
      ]
     },
     "execution_count": 37,
     "metadata": {},
     "output_type": "execute_result"
    }
   ],
   "source": [
    "H_cc= qp.tensor(H_a, qp.qeye(N)) + qp.tensor(qp.qeye(N), H_f)\n",
    "H_cc"
   ]
  },
  {
   "cell_type": "code",
   "execution_count": 38,
   "metadata": {},
   "outputs": [
    {
     "name": "stdout",
     "output_type": "stream",
     "text": [
      "Interactive Hamiltonian Quantum object: dims = [[8], [8]], shape = (8, 8), type = oper, isherm = True\n",
      "Qobj data =\n",
      "[[0.        +0.j         0.        +0.j         0.        +0.j\n",
      "  0.        +0.j         0.        +0.j         0.54030231-0.84147098j\n",
      "  0.        +0.j         0.        +0.j        ]\n",
      " [0.        +0.j         0.        +0.j         0.        +0.j\n",
      "  0.        +0.j         0.54030231+0.84147098j 0.        +0.j\n",
      "  0.        +0.j         0.        +0.j        ]\n",
      " [0.        +0.j         0.        +0.j         0.        +0.j\n",
      "  0.        +0.j         0.        +0.j         0.        +0.j\n",
      "  0.        +0.j         0.54030231-0.84147098j]\n",
      " [0.        +0.j         0.        +0.j         0.        +0.j\n",
      "  0.        +0.j         0.        +0.j         0.        +0.j\n",
      "  0.54030231+0.84147098j 0.        +0.j        ]\n",
      " [0.        +0.j         0.54030231-0.84147098j 0.        +0.j\n",
      "  0.        +0.j         0.        +0.j         0.        +0.j\n",
      "  0.        +0.j         0.        +0.j        ]\n",
      " [0.54030231+0.84147098j 0.        +0.j         0.        +0.j\n",
      "  0.        +0.j         0.        +0.j         0.        +0.j\n",
      "  0.        +0.j         0.        +0.j        ]\n",
      " [0.        +0.j         0.        +0.j         0.        +0.j\n",
      "  0.54030231-0.84147098j 0.        +0.j         0.        +0.j\n",
      "  0.        +0.j         0.        +0.j        ]\n",
      " [0.        +0.j         0.        +0.j         0.54030231+0.84147098j\n",
      "  0.        +0.j         0.        +0.j         0.        +0.j\n",
      "  0.        +0.j         0.        +0.j        ]]\n",
      "noise energy : 1.87890625\n",
      "signal energy : 8.000000000000057\n",
      "(8, 8)\n"
     ]
    }
   ],
   "source": [
    "# Calculate the noise and signal energy\n",
    "U_F = np.zeros((N,N), dtype=complex)\n",
    "for k in range(N):\n",
    "    for n in range(N):\n",
    "        U_F[k, n] = 1 / (np.sqrt(N)) * (np.exp(-2j * np.pi * k * n / N))\n",
    "Hi_tilda = (\n",
    "    (+1j * (H_a + H_f) * T).expm() * H_i * (-1j * (H_a + H_f) * T).expm().dag()\n",
    ")\n",
    "U_g = np.abs(U_F ** 10)\n",
    "noise_energy = np.power(np.linalg.norm(U_g - np.eye(2), \"fro\"), 2)\n",
    "signal_energy = np.power(np.linalg.norm(Hi_tilda), 2)\n",
    "print(\"Interactive Hamiltonian\",Qobj(H_i))\n",
    "print(\"noise energy :\", noise_energy)\n",
    "print(\"signal energy :\", signal_energy)\n",
    "print(Hi_tilda.shape)\n"
   ]
  },
  {
   "cell_type": "code",
   "execution_count": 39,
   "metadata": {},
   "outputs": [],
   "source": [
    "hh=Qobj(U_F)\n",
    "U_n=np.array([[32, 0],\n",
    "       [0, 32]])\n"
   ]
  },
  {
   "cell_type": "code",
   "execution_count": 40,
   "metadata": {},
   "outputs": [
    {
     "data": {
      "text/latex": [
       "Quantum object: dims = [[4], [4]], shape = (4, 4), type = oper, isherm = True $ \\\\ \\left(\\begin{matrix}1.000 & 0.0 & 1.000 & 0.0\\\\0.0 & 1.000 & 0.0 & 1.000\\\\1.000 & 0.0 & 1.000 & 0.0\\\\0.0 & 1.000 & 0.0 & 1.000\\\\\\end{matrix}\\right)$"
      ],
      "text/plain": [
       "Quantum object: dims = [[4], [4]], shape = (4, 4), type = oper, isherm = True\n",
       "Qobj data =\n",
       "[[1. 0. 1. 0.]\n",
       " [0. 1. 0. 1.]\n",
       " [1. 0. 1. 0.]\n",
       " [0. 1. 0. 1.]]"
      ]
     },
     "execution_count": 40,
     "metadata": {},
     "output_type": "execute_result"
    }
   ],
   "source": [
    "Unew=Qobj(np.kron(U_g, U_n))\n",
    "Unew\n"
   ]
  },
  {
   "cell_type": "code",
   "execution_count": 41,
   "metadata": {},
   "outputs": [],
   "source": [
    "# Calculate the noise-to-signal energy ratio\n",
    "ratio = noise_energy / signal_energy\n",
    "ratio_l=np.linspace(np.exp(-0.25),np.exp(-1),N+1)"
   ]
  },
  {
   "cell_type": "code",
   "execution_count": 42,
   "metadata": {},
   "outputs": [
    {
     "data": {
      "image/png": "[encoded data removed]",
      "text/plain": [
       "<Figure size 432x288 with 1 Axes>"
      ]
     },
     "metadata": {
      "needs_background": "light"
     },
     "output_type": "display_data"
    }
   ],
   "source": [
    "# Plot the ratio\n",
    "plt.plot(range(N+1), ratio_l)\n",
    "plt.xlabel('Level')\n",
    "plt.ylabel('Noise-to-Signal Energy Ratio')\n",
    "plt.title('Noise-to-Signal Energy Ratio')\n",
    "plt.show()"
   ]
  }
 ],
 "metadata": {
  "kernelspec": {
   "display_name": "Python 3",
   "language": "python",
   "name": "python3"
  },
  "language_info": {
   "codemirror_mode": {
    "name": "ipython",
    "version": 3
   },
   "file_extension": ".py",
   "mimetype": "text/x-python",
   "name": "python",
   "nbconvert_exporter": "python",
   "pygments_lexer": "ipython3",
   "version": "3.10.7"
  }
 },
 "nbformat": 4,
 "nbformat_minor": 2
}
